{
 "cells": [
  {
   "cell_type": "markdown",
   "metadata": {},
   "source": [
    "# Radicle Grants Program (RGP) - Committee Compensation\n",
    "\n",
    "The analysis below looks at the last 6 months of RAD prices, denominated in USD terms.\n",
    "\n",
    "The main goal of the analysis is to gauge a very conservative estimate of the amount of RAD needed in the RGP's multi-sig wallet in order to pay committee members. This is to ensure that we have enough RAD to pay committee members in meaningful equity without running out of RAD due to fluctuations in conversion rates. \n",
    "\n",
    "There are a few charts to show the price over time, but these are not important to the outcome of the analysis.\n",
    "\n",
    "Source: https://www.coingecko.com/en/coins/radicle/historical_data/usd?end_date=2021-11-24&start_date=2021-05-29#panel"
   ]
  },
  {
   "cell_type": "code",
   "execution_count": 22,
   "metadata": {},
   "outputs": [],
   "source": [
    "import numpy as np\n",
    "import pandas as pd\n",
    "import matplotlib.pyplot as plt"
   ]
  },
  {
   "cell_type": "code",
   "execution_count": 24,
   "metadata": {},
   "outputs": [
    {
     "data": {
      "text/html": [
       "<div>\n",
       "<style scoped>\n",
       "    .dataframe tbody tr th:only-of-type {\n",
       "        vertical-align: middle;\n",
       "    }\n",
       "\n",
       "    .dataframe tbody tr th {\n",
       "        vertical-align: top;\n",
       "    }\n",
       "\n",
       "    .dataframe thead th {\n",
       "        text-align: right;\n",
       "    }\n",
       "</style>\n",
       "<table border=\"1\" class=\"dataframe\">\n",
       "  <thead>\n",
       "    <tr style=\"text-align: right;\">\n",
       "      <th></th>\n",
       "      <th>snapped_at</th>\n",
       "      <th>price</th>\n",
       "      <th>market_cap</th>\n",
       "      <th>total_volume</th>\n",
       "    </tr>\n",
       "  </thead>\n",
       "  <tbody>\n",
       "    <tr>\n",
       "      <th>0</th>\n",
       "      <td>2021-02-25 00:00:00 UTC</td>\n",
       "      <td>11.646011</td>\n",
       "      <td>0.000000e+00</td>\n",
       "      <td>1.107455e+07</td>\n",
       "    </tr>\n",
       "    <tr>\n",
       "      <th>1</th>\n",
       "      <td>2021-02-26 00:00:00 UTC</td>\n",
       "      <td>11.646011</td>\n",
       "      <td>0.000000e+00</td>\n",
       "      <td>1.107455e+07</td>\n",
       "    </tr>\n",
       "    <tr>\n",
       "      <th>2</th>\n",
       "      <td>2021-02-27 00:00:00 UTC</td>\n",
       "      <td>11.724064</td>\n",
       "      <td>0.000000e+00</td>\n",
       "      <td>1.617266e+07</td>\n",
       "    </tr>\n",
       "    <tr>\n",
       "      <th>3</th>\n",
       "      <td>2021-02-28 00:00:00 UTC</td>\n",
       "      <td>15.625533</td>\n",
       "      <td>0.000000e+00</td>\n",
       "      <td>2.365203e+07</td>\n",
       "    </tr>\n",
       "    <tr>\n",
       "      <th>4</th>\n",
       "      <td>2021-03-01 00:00:00 UTC</td>\n",
       "      <td>13.411671</td>\n",
       "      <td>0.000000e+00</td>\n",
       "      <td>2.796986e+06</td>\n",
       "    </tr>\n",
       "    <tr>\n",
       "      <th>...</th>\n",
       "      <td>...</td>\n",
       "      <td>...</td>\n",
       "      <td>...</td>\n",
       "      <td>...</td>\n",
       "    </tr>\n",
       "    <tr>\n",
       "      <th>268</th>\n",
       "      <td>2021-11-20 00:00:00 UTC</td>\n",
       "      <td>13.121472</td>\n",
       "      <td>2.773117e+08</td>\n",
       "      <td>1.781942e+07</td>\n",
       "    </tr>\n",
       "    <tr>\n",
       "      <th>269</th>\n",
       "      <td>2021-11-21 00:00:00 UTC</td>\n",
       "      <td>13.093094</td>\n",
       "      <td>2.768384e+08</td>\n",
       "      <td>1.438152e+07</td>\n",
       "    </tr>\n",
       "    <tr>\n",
       "      <th>270</th>\n",
       "      <td>2021-11-22 00:00:00 UTC</td>\n",
       "      <td>13.429398</td>\n",
       "      <td>2.839268e+08</td>\n",
       "      <td>3.499454e+07</td>\n",
       "    </tr>\n",
       "    <tr>\n",
       "      <th>271</th>\n",
       "      <td>2021-11-23 00:00:00 UTC</td>\n",
       "      <td>12.470071</td>\n",
       "      <td>2.645682e+08</td>\n",
       "      <td>1.735316e+07</td>\n",
       "    </tr>\n",
       "    <tr>\n",
       "      <th>272</th>\n",
       "      <td>2021-11-24 00:00:00 UTC</td>\n",
       "      <td>12.334478</td>\n",
       "      <td>2.608209e+08</td>\n",
       "      <td>2.007043e+07</td>\n",
       "    </tr>\n",
       "  </tbody>\n",
       "</table>\n",
       "<p>273 rows × 4 columns</p>\n",
       "</div>"
      ],
      "text/plain": [
       "                  snapped_at      price    market_cap  total_volume\n",
       "0    2021-02-25 00:00:00 UTC  11.646011  0.000000e+00  1.107455e+07\n",
       "1    2021-02-26 00:00:00 UTC  11.646011  0.000000e+00  1.107455e+07\n",
       "2    2021-02-27 00:00:00 UTC  11.724064  0.000000e+00  1.617266e+07\n",
       "3    2021-02-28 00:00:00 UTC  15.625533  0.000000e+00  2.365203e+07\n",
       "4    2021-03-01 00:00:00 UTC  13.411671  0.000000e+00  2.796986e+06\n",
       "..                       ...        ...           ...           ...\n",
       "268  2021-11-20 00:00:00 UTC  13.121472  2.773117e+08  1.781942e+07\n",
       "269  2021-11-21 00:00:00 UTC  13.093094  2.768384e+08  1.438152e+07\n",
       "270  2021-11-22 00:00:00 UTC  13.429398  2.839268e+08  3.499454e+07\n",
       "271  2021-11-23 00:00:00 UTC  12.470071  2.645682e+08  1.735316e+07\n",
       "272  2021-11-24 00:00:00 UTC  12.334478  2.608209e+08  2.007043e+07\n",
       "\n",
       "[273 rows x 4 columns]"
      ]
     },
     "execution_count": 24,
     "metadata": {},
     "output_type": "execute_result"
    }
   ],
   "source": [
    "time_series_df = pd.read_csv('rad-usd-max.csv')\n",
    "time_series_df"
   ]
  },
  {
   "cell_type": "code",
   "execution_count": 25,
   "metadata": {},
   "outputs": [
    {
     "data": {
      "text/plain": [
       "0      11.646011\n",
       "1      11.646011\n",
       "2      11.724064\n",
       "3      15.625533\n",
       "4      13.411671\n",
       "         ...    \n",
       "268    13.121472\n",
       "269    13.093094\n",
       "270    13.429398\n",
       "271    12.470071\n",
       "272    12.334478\n",
       "Name: price, Length: 273, dtype: float64"
      ]
     },
     "execution_count": 25,
     "metadata": {},
     "output_type": "execute_result"
    }
   ],
   "source": [
    "price_time_series_df = time_series_df['price']\n",
    "price_time_series_df"
   ]
  },
  {
   "cell_type": "markdown",
   "metadata": {},
   "source": [
    "## Average Price"
   ]
  },
  {
   "cell_type": "code",
   "execution_count": 27,
   "metadata": {},
   "outputs": [
    {
     "data": {
      "text/plain": [
       "10.803550057143621"
      ]
     },
     "execution_count": 27,
     "metadata": {},
     "output_type": "execute_result"
    }
   ],
   "source": [
    "average_price = price_time_series_df.mean()\n",
    "average_price"
   ]
  },
  {
   "cell_type": "markdown",
   "metadata": {},
   "source": [
    "The average price of RAD was $10.80 (USD) in the last 6 months (180 days)."
   ]
  },
  {
   "cell_type": "markdown",
   "metadata": {},
   "source": [
    "## Standard Deviation"
   ]
  },
  {
   "cell_type": "code",
   "execution_count": 29,
   "metadata": {},
   "outputs": [
    {
     "data": {
      "text/plain": [
       "4.682272817590489"
      ]
     },
     "execution_count": 29,
     "metadata": {},
     "output_type": "execute_result"
    }
   ],
   "source": [
    "standard_deviation = price_time_series_df.std()\n",
    "standard_deviation"
   ]
  },
  {
   "cell_type": "markdown",
   "metadata": {},
   "source": [
    "The standard deviation in price was +/- $4.68 (USD)."
   ]
  },
  {
   "cell_type": "markdown",
   "metadata": {},
   "source": [
    "## Outcome/Takeaway"
   ]
  },
  {
   "cell_type": "markdown",
   "metadata": {},
   "source": [
    "The main goal here is to ensure we have enough RAD to pay RGP Committee members in RAD, even with flucuations in the RAD:USD conversion rate.\n",
    "\n",
    "Let's start with some key points:\n",
    "* We have 6 committee members\n",
    "* A high estimate of time worked would be 50 hours per month, over 6 months. This totals to 1,800 hours.\n",
    "* At 150 (USD) per hour, this would total 270,000 (USD) worth of RAD for the entire 6 months.\n",
    "\n",
    "I propose that we use the following formula to determine the amount of RAD needed to be transferred from the Radicle Treasury to the RGP's multi-sig wallet:\n",
    "\n",
    "`RAD to Transfer = $270,000 / (AVG Price over 6 months - (STD of price * 1.5))`\n",
    "\n",
    "`RAD to Transfer = $270,000 / ($10.80 - ($4.68 * 1.5)`\n",
    "\n",
    "`RAD to Transfer = $270,000 / ($10.80 - $7.02)`\n",
    "\n",
    "`RAD to Transfer = $270,000 / (3.78)`\n",
    "\n",
    "`RAD to Transfer = 71,428`\n",
    "\n",
    "Or in plain English: we should transfer 71,428 RAD from the Radicle Treasury to the RGP's multi-sig wallet.\n",
    "\n",
    "Any unused funds at the end of the 6 months would be transferred back to the Radicle Treasury."
   ]
  }
 ],
 "metadata": {
  "kernelspec": {
   "display_name": "Python 3",
   "language": "python",
   "name": "python3"
  },
  "language_info": {
   "codemirror_mode": {
    "name": "ipython",
    "version": 3
   },
   "file_extension": ".py",
   "mimetype": "text/x-python",
   "name": "python",
   "nbconvert_exporter": "python",
   "pygments_lexer": "ipython3",
   "version": "3.8.5"
  }
 },
 "nbformat": 4,
 "nbformat_minor": 4
}
