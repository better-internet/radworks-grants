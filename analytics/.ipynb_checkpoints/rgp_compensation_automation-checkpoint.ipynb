{
 "cells": [
  {
   "cell_type": "markdown",
   "metadata": {},
   "source": [
    "# Radicle Grants Program (RGP) - Invoice Automation\n",
    "\n",
    "The below helps to automate the monthly compensation for RGP committee members.\n",
    "\n",
    "Please [see here](https://github.com/radicle-dev/radicle-grants/tree/main/governance/remuneration) for more info."
   ]
  },
  {
   "cell_type": "code",
   "execution_count": 1,
   "metadata": {},
   "outputs": [],
   "source": [
    "import numpy as np\n",
    "import pandas as pd"
   ]
  },
  {
   "cell_type": "markdown",
   "metadata": {},
   "source": [
    "# Steps"
   ]
  },
  {
   "cell_type": "markdown",
   "metadata": {},
   "source": [
    "### 1. Download or Copy/Paste latest price data\n",
    "\n",
    "We are using Coingecko's historical close data.\n",
    "\n",
    "Link: https://www.coingecko.com/en/coins/radicle/historical_data/usd"
   ]
  },
  {
   "cell_type": "code",
   "execution_count": 2,
   "metadata": {},
   "outputs": [],
   "source": [
    "last_7_day_prices = [4.84, 4.30, 4.49, 4.53, 4.42, 4.90, 5.07]"
   ]
  },
  {
   "cell_type": "markdown",
   "metadata": {},
   "source": [
    "### 2. Find Average"
   ]
  },
  {
   "cell_type": "code",
   "execution_count": 3,
   "metadata": {},
   "outputs": [
    {
     "data": {
      "text/plain": [
       "4.6499999999999995"
      ]
     },
     "execution_count": 3,
     "metadata": {},
     "output_type": "execute_result"
    }
   ],
   "source": [
    "average_rad_to_usd_price = np.mean(last_7_day_prices)\n",
    "average_rad_to_usd_price"
   ]
  },
  {
   "cell_type": "markdown",
   "metadata": {},
   "source": [
    "### 3. Calculate total compensation"
   ]
  },
  {
   "cell_type": "code",
   "execution_count": 4,
   "metadata": {},
   "outputs": [
    {
     "name": "stdout",
     "output_type": "stream",
     "text": [
      "Your total compensation is: 564.5161290322582 RAD\n"
     ]
    }
   ],
   "source": [
    "# Don't change this\n",
    "hourly_wage = 150\n",
    "# Edit this to reflect the hours you worked\n",
    "hours_worked = 17.5\n",
    "\n",
    "total_comp = hours_worked * (hourly_wage / average_rad_to_usd_price)\n",
    "\n",
    "print(f'Your total compensation is: {total_comp} RAD')"
   ]
  },
  {
   "cell_type": "code",
   "execution_count": null,
   "metadata": {},
   "outputs": [],
   "source": []
  }
 ],
 "metadata": {
  "kernelspec": {
   "display_name": "Python 3 (ipykernel)",
   "language": "python",
   "name": "python3"
  },
  "language_info": {
   "codemirror_mode": {
    "name": "ipython",
    "version": 3
   },
   "file_extension": ".py",
   "mimetype": "text/x-python",
   "name": "python",
   "nbconvert_exporter": "python",
   "pygments_lexer": "ipython3",
   "version": "3.9.7"
  }
 },
 "nbformat": 4,
 "nbformat_minor": 4
}
