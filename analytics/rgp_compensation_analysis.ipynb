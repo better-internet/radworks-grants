{
 "cells": [
  {
   "cell_type": "markdown",
   "metadata": {},
   "source": [
    "# Radicle Grants Program (RGP) - Committee Compensation\n",
    "\n",
    "The analysis below looks at the last 6 months of RAD prices, denominated in USD terms.\n",
    "\n",
    "The main goal of the analysis is to gauge a very conservative estimate of the amount of RAD needed in the RGP's multi-sig wallet in order to pay committee members. This is to ensure that we have enough RAD to pay committee members in meaningful equity without running out of RAD due to fluctuations in conversion rates. \n",
    "\n",
    "There are a few charts to show the price over time, but these are not important to the outcome of the analysis.\n",
    "\n",
    "Source: https://www.coingecko.com/en/coins/radicle/historical_data/usd?end_date=2021-11-24&start_date=2021-05-29#panel"
   ]
  },
  {
   "cell_type": "code",
   "execution_count": 1,
   "metadata": {},
   "outputs": [],
   "source": [
    "import numpy as np\n",
    "import pandas as pd\n",
    "import matplotlib.pyplot as plt"
   ]
  },
  {
   "cell_type": "code",
   "execution_count": 3,
   "metadata": {},
   "outputs": [
    {
     "data": {
      "text/html": [
       "<div>\n",
       "<style scoped>\n",
       "    .dataframe tbody tr th:only-of-type {\n",
       "        vertical-align: middle;\n",
       "    }\n",
       "\n",
       "    .dataframe tbody tr th {\n",
       "        vertical-align: top;\n",
       "    }\n",
       "\n",
       "    .dataframe thead th {\n",
       "        text-align: right;\n",
       "    }\n",
       "</style>\n",
       "<table border=\"1\" class=\"dataframe\">\n",
       "  <thead>\n",
       "    <tr style=\"text-align: right;\">\n",
       "      <th></th>\n",
       "      <th>snapped_at</th>\n",
       "      <th>price</th>\n",
       "      <th>market_cap</th>\n",
       "      <th>total_volume</th>\n",
       "    </tr>\n",
       "  </thead>\n",
       "  <tbody>\n",
       "    <tr>\n",
       "      <th>0</th>\n",
       "      <td>2021-08-14 00:00:00 UTC</td>\n",
       "      <td>9.147861</td>\n",
       "      <td>1.820627e+08</td>\n",
       "      <td>3.116260e+06</td>\n",
       "    </tr>\n",
       "    <tr>\n",
       "      <th>1</th>\n",
       "      <td>2021-08-15 00:00:00 UTC</td>\n",
       "      <td>8.551744</td>\n",
       "      <td>1.700891e+08</td>\n",
       "      <td>1.458007e+06</td>\n",
       "    </tr>\n",
       "    <tr>\n",
       "      <th>2</th>\n",
       "      <td>2021-08-16 00:00:00 UTC</td>\n",
       "      <td>8.056448</td>\n",
       "      <td>1.603859e+08</td>\n",
       "      <td>9.608261e+05</td>\n",
       "    </tr>\n",
       "    <tr>\n",
       "      <th>3</th>\n",
       "      <td>2021-08-17 00:00:00 UTC</td>\n",
       "      <td>7.461315</td>\n",
       "      <td>1.486583e+08</td>\n",
       "      <td>1.236060e+06</td>\n",
       "    </tr>\n",
       "    <tr>\n",
       "      <th>4</th>\n",
       "      <td>2021-08-18 00:00:00 UTC</td>\n",
       "      <td>7.385115</td>\n",
       "      <td>1.471319e+08</td>\n",
       "      <td>7.836312e+05</td>\n",
       "    </tr>\n",
       "    <tr>\n",
       "      <th>...</th>\n",
       "      <td>...</td>\n",
       "      <td>...</td>\n",
       "      <td>...</td>\n",
       "      <td>...</td>\n",
       "    </tr>\n",
       "    <tr>\n",
       "      <th>180</th>\n",
       "      <td>2022-02-10 00:00:00 UTC</td>\n",
       "      <td>6.067857</td>\n",
       "      <td>2.235524e+08</td>\n",
       "      <td>9.213753e+06</td>\n",
       "    </tr>\n",
       "    <tr>\n",
       "      <th>181</th>\n",
       "      <td>2022-02-11 00:00:00 UTC</td>\n",
       "      <td>5.701208</td>\n",
       "      <td>2.098866e+08</td>\n",
       "      <td>8.533451e+06</td>\n",
       "    </tr>\n",
       "    <tr>\n",
       "      <th>182</th>\n",
       "      <td>2022-02-12 00:00:00 UTC</td>\n",
       "      <td>5.427645</td>\n",
       "      <td>2.002791e+08</td>\n",
       "      <td>6.548640e+06</td>\n",
       "    </tr>\n",
       "    <tr>\n",
       "      <th>183</th>\n",
       "      <td>2022-02-13 00:00:00 UTC</td>\n",
       "      <td>5.350140</td>\n",
       "      <td>1.971101e+08</td>\n",
       "      <td>4.876014e+06</td>\n",
       "    </tr>\n",
       "    <tr>\n",
       "      <th>184</th>\n",
       "      <td>2022-02-14 00:00:00 UTC</td>\n",
       "      <td>5.490072</td>\n",
       "      <td>2.030592e+08</td>\n",
       "      <td>1.926304e+07</td>\n",
       "    </tr>\n",
       "  </tbody>\n",
       "</table>\n",
       "<p>185 rows × 4 columns</p>\n",
       "</div>"
      ],
      "text/plain": [
       "                  snapped_at     price    market_cap  total_volume\n",
       "0    2021-08-14 00:00:00 UTC  9.147861  1.820627e+08  3.116260e+06\n",
       "1    2021-08-15 00:00:00 UTC  8.551744  1.700891e+08  1.458007e+06\n",
       "2    2021-08-16 00:00:00 UTC  8.056448  1.603859e+08  9.608261e+05\n",
       "3    2021-08-17 00:00:00 UTC  7.461315  1.486583e+08  1.236060e+06\n",
       "4    2021-08-18 00:00:00 UTC  7.385115  1.471319e+08  7.836312e+05\n",
       "..                       ...       ...           ...           ...\n",
       "180  2022-02-10 00:00:00 UTC  6.067857  2.235524e+08  9.213753e+06\n",
       "181  2022-02-11 00:00:00 UTC  5.701208  2.098866e+08  8.533451e+06\n",
       "182  2022-02-12 00:00:00 UTC  5.427645  2.002791e+08  6.548640e+06\n",
       "183  2022-02-13 00:00:00 UTC  5.350140  1.971101e+08  4.876014e+06\n",
       "184  2022-02-14 00:00:00 UTC  5.490072  2.030592e+08  1.926304e+07\n",
       "\n",
       "[185 rows x 4 columns]"
      ]
     },
     "execution_count": 3,
     "metadata": {},
     "output_type": "execute_result"
    }
   ],
   "source": [
    "time_series_df = pd.read_csv('rad-usd-max.csv')\n",
    "time_series_df\n",
    "\n",
    "# url = \"https://www.coingecko.com/price_charts/export/14013/usd.csv\"\n",
    "# time_series_df = pd.read_csv(url)"
   ]
  },
  {
   "cell_type": "code",
   "execution_count": 4,
   "metadata": {},
   "outputs": [
    {
     "data": {
      "text/plain": [
       "0      9.147861\n",
       "1      8.551744\n",
       "2      8.056448\n",
       "3      7.461315\n",
       "4      7.385115\n",
       "         ...   \n",
       "180    6.067857\n",
       "181    5.701208\n",
       "182    5.427645\n",
       "183    5.350140\n",
       "184    5.490072\n",
       "Name: price, Length: 185, dtype: float64"
      ]
     },
     "execution_count": 4,
     "metadata": {},
     "output_type": "execute_result"
    }
   ],
   "source": [
    "price_time_series_df = time_series_df['price']\n",
    "price_time_series_df"
   ]
  },
  {
   "cell_type": "markdown",
   "metadata": {},
   "source": [
    "## Average Price"
   ]
  },
  {
   "cell_type": "code",
   "execution_count": 5,
   "metadata": {},
   "outputs": [
    {
     "data": {
      "text/plain": [
       "10.341306813536843"
      ]
     },
     "execution_count": 5,
     "metadata": {},
     "output_type": "execute_result"
    }
   ],
   "source": [
    "average_price = price_time_series_df.mean()\n",
    "average_price"
   ]
  },
  {
   "cell_type": "code",
   "execution_count": 8,
   "metadata": {},
   "outputs": [
    {
     "name": "stdout",
     "output_type": "stream",
     "text": [
      "The average price of RAD was $10.34 (USD) in the last 6 months (180 days).\n"
     ]
    }
   ],
   "source": [
    "print(f'The average price of RAD was ${average_price:.2f} (USD) in the last 6 months (180 days).')"
   ]
  },
  {
   "cell_type": "markdown",
   "metadata": {},
   "source": [
    "## Standard Deviation"
   ]
  },
  {
   "cell_type": "code",
   "execution_count": 6,
   "metadata": {},
   "outputs": [
    {
     "data": {
      "text/plain": [
       "2.9132204039553904"
      ]
     },
     "execution_count": 6,
     "metadata": {},
     "output_type": "execute_result"
    }
   ],
   "source": [
    "standard_deviation = price_time_series_df.std()\n",
    "standard_deviation"
   ]
  },
  {
   "cell_type": "code",
   "execution_count": 9,
   "metadata": {},
   "outputs": [
    {
     "name": "stdout",
     "output_type": "stream",
     "text": [
      "The standard deviation in price was +/- $2.91 (USD) in the last 6 months (180 days).\n"
     ]
    }
   ],
   "source": [
    "print(f'The standard deviation in price was +/- ${standard_deviation:.2f} (USD) in the last 6 months (180 days).')"
   ]
  },
  {
   "cell_type": "markdown",
   "metadata": {},
   "source": [
    "## Outcome/Takeaway"
   ]
  },
  {
   "cell_type": "markdown",
   "metadata": {},
   "source": [
    "The main goal here is to ensure we have enough RAD to pay RGP Committee members in RAD, even with flucuations in the RAD:USD conversion rate.\n",
    "\n",
    "Let's start with some key points:\n",
    "* We have 6 committee members\n",
    "* A high estimate of time worked would be 50 hours per month, over 6 months. This totals to 1,800 hours.\n",
    "* At 150 (USD) per hour, this would total 270,000 (USD) worth of RAD for the entire 6 months."
   ]
  },
  {
   "cell_type": "code",
   "execution_count": 10,
   "metadata": {},
   "outputs": [
    {
     "data": {
      "text/plain": [
       "270000"
      ]
     },
     "execution_count": 10,
     "metadata": {},
     "output_type": "execute_result"
    }
   ],
   "source": [
    "committee_members = 6\n",
    "monthly_hours = 50\n",
    "grants_program_lengths_in_months = 6\n",
    "total_hours_worked = committee_members * monthly_hours * grants_program_lengths_in_months\n",
    "\n",
    "hourly_compensation_usd = 150\n",
    "total_rad_compensation_usd = total_hours_worked * 150\n",
    "total_rad_compensation_usd"
   ]
  },
  {
   "cell_type": "markdown",
   "metadata": {},
   "source": [
    "I propose that we use the following formula to determine the amount of RAD needed to be transferred from the Radicle Treasury to the RGP's multi-sig wallet:\n",
    "\n",
    "`RAD to Transfer = $270,000 / (AVG Price over 6 months - STD of price)`\n"
   ]
  },
  {
   "cell_type": "code",
   "execution_count": 11,
   "metadata": {},
   "outputs": [
    {
     "data": {
      "text/plain": [
       "36348.52707848529"
      ]
     },
     "execution_count": 11,
     "metadata": {},
     "output_type": "execute_result"
    }
   ],
   "source": [
    "rad_to_transfer = total_rad_compensation_usd / (average_price - standard_deviation)\n",
    "rad_to_transfer"
   ]
  },
  {
   "cell_type": "markdown",
   "metadata": {},
   "source": [
    "Or in plain English: we should transfer 44,108 RAD from the Radicle Treasury to the RGP's multi-sig wallet.\n",
    "\n",
    "Any unused funds at the end of the 6 months would be transferred back to the Radicle Treasury."
   ]
  },
  {
   "cell_type": "markdown",
   "metadata": {},
   "source": [
    "# Appendix"
   ]
  },
  {
   "cell_type": "code",
   "execution_count": 12,
   "metadata": {},
   "outputs": [
    {
     "data": {
      "image/png": "[encoded data removed]",
      "text/plain": [
       "<Figure size 432x288 with 1 Axes>"
      ]
     },
     "metadata": {
      "needs_background": "light"
     },
     "output_type": "display_data"
    }
   ],
   "source": [
    "from matplotlib import pyplot\n",
    "\n",
    "# series = read_csv('daily-minimum-temperatures.csv', header=0, index_col=0, parse_dates=True, squeeze=True)\n",
    "price_time_series_df.hist()\n",
    "pyplot.show()"
   ]
  },
  {
   "cell_type": "code",
   "execution_count": 13,
   "metadata": {},
   "outputs": [
    {
     "data": {
      "image/png": "[encoded data removed]",
      "text/plain": [
       "<Figure size 432x288 with 1 Axes>"
      ]
     },
     "metadata": {
      "needs_background": "light"
     },
     "output_type": "display_data"
    }
   ],
   "source": [
    "price_time_series_df.plot(kind='kde')\n",
    "pyplot.show()"
   ]
  },
  {
   "cell_type": "code",
   "execution_count": null,
   "metadata": {},
   "outputs": [],
   "source": []
  }
 ],
 "metadata": {
  "kernelspec": {
   "display_name": "Python 3 (ipykernel)",
   "language": "python",
   "name": "python3"
  },
  "language_info": {
   "codemirror_mode": {
    "name": "ipython",
    "version": 3
   },
   "file_extension": ".py",
   "mimetype": "text/x-python",
   "name": "python",
   "nbconvert_exporter": "python",
   "pygments_lexer": "ipython3",
   "version": "3.9.7"
  }
 },
 "nbformat": 4,
 "nbformat_minor": 4
}
