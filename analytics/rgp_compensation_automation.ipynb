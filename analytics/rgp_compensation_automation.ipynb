{
 "cells": [
  {
   "cell_type": "markdown",
   "metadata": {},
   "source": [
    "# Radworks Grants Program (RGP) - Invoice Automation\n",
    "\n",
    "The below helps to automate the monthly compensation for RGP committee members.\n",
    "\n",
    "Please [see here](https://github.com/radicle-dev/radicle-grants/tree/main/governance/remuneration) for more info."
   ]
  },
  {
   "cell_type": "code",
   "execution_count": 5,
   "metadata": {},
   "outputs": [],
   "source": [
    "import numpy as np\n",
    "import pandas as pd"
   ]
  },
  {
   "cell_type": "markdown",
   "metadata": {},
   "source": [
    "# Steps"
   ]
  },
  {
   "cell_type": "markdown",
   "metadata": {},
   "source": [
    "### 1. Download or Copy/Paste latest price data\n",
    "\n",
    "We are using Coingecko's historical close data.\n",
    "\n",
    "Link: https://www.coingecko.com/en/coins/radicle/historical_data/usd"
   ]
  },
  {
   "cell_type": "code",
   "execution_count": 6,
   "metadata": {},
   "outputs": [],
   "source": [
    "oct_last_7_day_prices = [1.9744449611421700, \n",
    "                                2.0049783346737200, \n",
    "                                2.020437243543650, \n",
    "                                2.0483393428003800, \n",
    "                                2.079138028081740, \n",
    "                                2.0662496445401100, \n",
    "                                2.0394697351305200]"
   ]
  },
  {
   "cell_type": "code",
   "execution_count": 14,
   "metadata": {},
   "outputs": [],
   "source": [
    "nov_last_7_day_prices = [1.5961965158683400, \n",
    "                                1.5583125396715100, \n",
    "                                1.5949846050745000, \n",
    "                                1.5836690816404300, \n",
    "                                1.5953083239304300, \n",
    "                                1.5504228710791300, \n",
    "                                1.6129324948076500]"
   ]
  },
  {
   "cell_type": "code",
   "execution_count": null,
   "metadata": {},
   "outputs": [],
   "source": [
    "# dec_last_7_day_prices = [1.5961965158683400, \n",
    "#                                 1.5583125396715100, \n",
    "#                                 1.5949846050745000, \n",
    "#                                 1.5836690816404300, \n",
    "#                                 1.5953083239304300, \n",
    "#                                 1.5504228710791300, \n",
    "#                                 1.6129324948076500]"
   ]
  },
  {
   "cell_type": "code",
   "execution_count": 4,
   "metadata": {},
   "outputs": [],
   "source": [
    "# jan_2022_last_7_day_prices = [5.076325978222680, 4.964070128895420, 5.047664113162710, 5.0838269323243700, 5.099737752231650, 5.347447818424400, 5.1041439920396100]\n",
    "# feb_2022_last_7_day_prices = [5.044229781367130, 5.0746726726181800, 4.897360167141640, 4.420648708991040, 4.526309160315090, 4.487437649175770, 4.301591110596190]\n",
    "# march_2022_last_7_day_prices = [4.990626505680720, 5.021158200649360, 5.177933243518530, 5.30797665692877, 5.037336934932270, 5.145524510582730, 5.447957656596970]\n",
    "# april_2022_last_7_day_prices = [4.428414487565820, 4.36776272147452, 4.426746976717110, 4.132921783649620, 4.177276713451070, 4.2863370459505000, 4.048983706541560]\n",
    "# may_2022_last_7_day_prices = [2.098001751969390, 3.27754125971573, 2.3700846473287300, 2.1186962814483200, 2.1184304852009600, 2.1654979195768800, 2.3111801051513500]\n",
    "# june_2022_last_7_day_prices = [1.532066298027580, 1.6193802339582400, 1.6463166662472700, 1.5238055672461100, 1.5405675194482600, 1.4563200602014200, 1.5256357178816900]\n",
    "\n",
    "# all_months = (jan_2022_last_7_day_prices \n",
    "#     + feb_2022_last_7_day_prices \n",
    "#     + march_2022_last_7_day_prices \n",
    "#     + april_2022_last_7_day_prices\n",
    "#     + may_2022_last_7_day_prices\n",
    "#     + june_2022_last_7_day_prices)\n"
   ]
  },
  {
   "cell_type": "markdown",
   "metadata": {},
   "source": [
    "### 2. Find Average"
   ]
  },
  {
   "cell_type": "code",
   "execution_count": 13,
   "metadata": {},
   "outputs": [
    {
     "data": {
      "text/plain": [
       "2.033293898558899"
      ]
     },
     "execution_count": 13,
     "metadata": {},
     "output_type": "execute_result"
    }
   ],
   "source": [
    "oct_rad_to_usd_price = np.mean(oct_last_7_day_prices)\n",
    "oct_rad_to_usd_price"
   ]
  },
  {
   "cell_type": "code",
   "execution_count": 15,
   "metadata": {},
   "outputs": [
    {
     "data": {
      "text/plain": [
       "1.5845466331531415"
      ]
     },
     "execution_count": 15,
     "metadata": {},
     "output_type": "execute_result"
    }
   ],
   "source": [
    "nov_rad_to_usd_price = np.mean(nov_last_7_day_prices)\n",
    "nov_rad_to_usd_price"
   ]
  },
  {
   "cell_type": "markdown",
   "metadata": {},
   "source": [
    "### 3. Calculate total compensation"
   ]
  },
  {
   "cell_type": "code",
   "execution_count": 10,
   "metadata": {},
   "outputs": [],
   "source": [
    "def calculate_final_rad_compensation(hours_worked: float, \n",
    "                                     rad_to_usd_price: float, \n",
    "                                     hourly_wage: float = 150) -> float:\n",
    "    return hours_worked * (hourly_wage / average_rad_to_usd_price)"
   ]
  },
  {
   "cell_type": "code",
   "execution_count": 16,
   "metadata": {},
   "outputs": [
    {
     "name": "stdout",
     "output_type": "stream",
     "text": [
      "Your total compensation is: 4721.40304301509 RAD\n"
     ]
    }
   ],
   "source": [
    "# October 2022\n",
    "total_comp = calculate_final_rad_compensation(hours_worked=64, \n",
    "                                              rad_to_usd_price=oct_rad_to_usd_price)\n",
    "\n",
    "print(f'Your total compensation is: {total_comp} RAD')"
   ]
  },
  {
   "cell_type": "code",
   "execution_count": 17,
   "metadata": {},
   "outputs": [
    {
     "name": "stdout",
     "output_type": "stream",
     "text": [
      "Your total compensation is: 3356.6224758935405 RAD\n"
     ]
    }
   ],
   "source": [
    "# November 2022\n",
    "total_comp = calculate_final_rad_compensation(hours_worked=45.5, \n",
    "                                              rad_to_usd_price=nov_rad_to_usd_price)\n",
    "\n",
    "print(f'Your total compensation is: {total_comp} RAD')"
   ]
  },
  {
   "cell_type": "code",
   "execution_count": null,
   "metadata": {},
   "outputs": [],
   "source": []
  }
 ],
 "metadata": {
  "kernelspec": {
   "display_name": "Python 3 (ipykernel)",
   "language": "python",
   "name": "python3"
  },
  "language_info": {
   "codemirror_mode": {
    "name": "ipython",
    "version": 3
   },
   "file_extension": ".py",
   "mimetype": "text/x-python",
   "name": "python",
   "nbconvert_exporter": "python",
   "pygments_lexer": "ipython3",
   "version": "3.9.7"
  }
 },
 "nbformat": 4,
 "nbformat_minor": 4
}
