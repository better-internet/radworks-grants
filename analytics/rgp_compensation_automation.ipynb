{
 "cells": [
  {
   "cell_type": "markdown",
   "metadata": {},
   "source": [
    "# Radicle Grants Program (RGP) - Invoice Automation\n",
    "\n",
    "The below helps to automate the monthly compensation for RGP committee members.\n",
    "\n",
    "Please [see here](https://github.com/radicle-dev/radicle-grants/tree/main/governance/remuneration) for more info."
   ]
  },
  {
   "cell_type": "code",
   "execution_count": 1,
   "metadata": {},
   "outputs": [],
   "source": [
    "import numpy as np\n",
    "import pandas as pd"
   ]
  },
  {
   "cell_type": "markdown",
   "metadata": {},
   "source": [
    "# Steps"
   ]
  },
  {
   "cell_type": "markdown",
   "metadata": {},
   "source": [
    "### 1. Download or Copy/Paste latest price data\n",
    "\n",
    "We are using Coingecko's historical close data.\n",
    "\n",
    "Link: https://www.coingecko.com/en/coins/radicle/historical_data/usd"
   ]
  },
  {
   "cell_type": "code",
   "execution_count": 4,
   "metadata": {},
   "outputs": [],
   "source": [
    "last_7_day_prices = [7.006431373421560, 6.872477631998030, 5.6652782159928200, 5.062502189568880, 5.212400510144440, 5.076325978222680, 4.964070128895420]"
   ]
  },
  {
   "cell_type": "markdown",
   "metadata": {},
   "source": [
    "### 2. Find Average"
   ]
  },
  {
   "cell_type": "code",
   "execution_count": 9,
   "metadata": {},
   "outputs": [
    {
     "data": {
      "text/plain": [
       "5.694212289749118"
      ]
     },
     "execution_count": 9,
     "metadata": {},
     "output_type": "execute_result"
    }
   ],
   "source": [
    "average_rad_to_usd_price = np.mean(last_7_day_prices)\n",
    "average_rad_to_usd_price"
   ]
  },
  {
   "cell_type": "markdown",
   "metadata": {},
   "source": [
    "### 3. Calculate total compensation"
   ]
  },
  {
   "cell_type": "code",
   "execution_count": 16,
   "metadata": {},
   "outputs": [
    {
     "name": "stdout",
     "output_type": "stream",
     "text": [
      "Your total compensation is: 26.342537363777996 RAD\n"
     ]
    }
   ],
   "source": [
    "# Don't change this\n",
    "hourly_wage = 150\n",
    "# Edit this to reflect the hours you worked\n",
    "hours_worked = 1\n",
    "\n",
    "total_comp = hours_worked * (hourly_wage / average_rad_to_usd_price)\n",
    "\n",
    "print(f'Your total compensation is: {total_comp} RAD')"
   ]
  }
 ],
 "metadata": {
  "kernelspec": {
   "display_name": "Python 3 (ipykernel)",
   "language": "python",
   "name": "python3"
  },
  "language_info": {
   "codemirror_mode": {
    "name": "ipython",
    "version": 3
   },
   "file_extension": ".py",
   "mimetype": "text/x-python",
   "name": "python",
   "nbconvert_exporter": "python",
   "pygments_lexer": "ipython3",
   "version": "3.9.7"
  }
 },
 "nbformat": 4,
 "nbformat_minor": 4
}
