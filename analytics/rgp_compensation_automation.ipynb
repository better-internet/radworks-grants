{
 "cells": [
  {
   "cell_type": "markdown",
   "metadata": {},
   "source": [
    "# Radicle Grants Program (RGP) - Invoice Automation\n",
    "\n",
    "The below helps to automate the monthly compensation for RGP committee members.\n",
    "\n",
    "Please [see here](https://github.com/radicle-dev/radicle-grants/tree/main/governance/remuneration) for more info."
   ]
  },
  {
   "cell_type": "code",
   "execution_count": 3,
   "metadata": {},
   "outputs": [],
   "source": [
    "import numpy as np\n",
    "import pandas as pd"
   ]
  },
  {
   "cell_type": "markdown",
   "metadata": {},
   "source": [
    "# Steps"
   ]
  },
  {
   "cell_type": "markdown",
   "metadata": {},
   "source": [
    "### 1. Download or Copy/Paste latest price data\n",
    "\n",
    "We are using Coingecko's historical close data.\n",
    "\n",
    "Link: https://www.coingecko.com/en/coins/radicle/historical_data/usd"
   ]
  },
  {
   "cell_type": "code",
   "execution_count": 4,
   "metadata": {},
   "outputs": [],
   "source": [
    "jan_2022_last_7_day_prices = [5.076325978222680, 4.964070128895420, 5.047664113162710, 5.0838269323243700, 5.099737752231650, 5.347447818424400, 5.1041439920396100]\n",
    "feb_2022_last_7_day_prices = [5.044229781367130, 5.0746726726181800, 4.897360167141640, 4.420648708991040, 4.526309160315090, 4.487437649175770, 4.301591110596190]\n",
    "march_2022_last_7_day_prices = [4.990626505680720, 5.021158200649360, 5.177933243518530, 5.30797665692877, 5.037336934932270, 5.145524510582730, 5.447957656596970]\n",
    "april_2022_last_7_day_prices = [4.428414487565820, 4.36776272147452, 4.426746976717110, 4.132921783649620, 4.177276713451070, 4.2863370459505000, 4.048983706541560]\n",
    "may_2022_last_7_day_prices = [2.098001751969390, 3.27754125971573, 2.3700846473287300, 2.1186962814483200, 2.1184304852009600, 2.1654979195768800, 2.3111801051513500]\n",
    "june_2022_last_7_day_prices = [1.532066298027580, 1.6193802339582400, 1.6463166662472700, 1.5238055672461100, 1.5405675194482600, 1.4563200602014200, 1.5256357178816900]\n",
    "\n",
    "all_months = (jan_2022_last_7_day_prices \n",
    "    + feb_2022_last_7_day_prices \n",
    "    + march_2022_last_7_day_prices \n",
    "    + april_2022_last_7_day_prices\n",
    "    + may_2022_last_7_day_prices\n",
    "    + june_2022_last_7_day_prices)\n"
   ]
  },
  {
   "cell_type": "markdown",
   "metadata": {},
   "source": [
    "### 2. Find Average"
   ]
  },
  {
   "cell_type": "code",
   "execution_count": 5,
   "metadata": {},
   "outputs": [
    {
     "data": {
      "text/plain": [
       "3.851808276741605"
      ]
     },
     "execution_count": 5,
     "metadata": {},
     "output_type": "execute_result"
    }
   ],
   "source": [
    "average_rad_to_usd_price = np.mean(all_months)\n",
    "average_rad_to_usd_price"
   ]
  },
  {
   "cell_type": "markdown",
   "metadata": {},
   "source": [
    "### 3. Calculate total compensation"
   ]
  },
  {
   "cell_type": "code",
   "execution_count": 6,
   "metadata": {},
   "outputs": [
    {
     "name": "stdout",
     "output_type": "stream",
     "text": [
      "Your total compensation is: 467.3129789114765 RAD\n"
     ]
    }
   ],
   "source": [
    "# Don't change this\n",
    "hourly_wage = 150\n",
    "# Edit this to reflect the hours you worked\n",
    "hours_worked = 12\n",
    "\n",
    "total_comp = hours_worked * (hourly_wage / average_rad_to_usd_price)\n",
    "\n",
    "print(f'Your total compensation is: {total_comp} RAD')"
   ]
  },
  {
   "cell_type": "code",
   "execution_count": null,
   "metadata": {},
   "outputs": [],
   "source": []
  }
 ],
 "metadata": {
  "kernelspec": {
   "display_name": "Python 3 (ipykernel)",
   "language": "python",
   "name": "python3"
  },
  "language_info": {
   "codemirror_mode": {
    "name": "ipython",
    "version": 3
   },
   "file_extension": ".py",
   "mimetype": "text/x-python",
   "name": "python",
   "nbconvert_exporter": "python",
   "pygments_lexer": "ipython3",
   "version": "3.9.7"
  }
 },
 "nbformat": 4,
 "nbformat_minor": 4
}
